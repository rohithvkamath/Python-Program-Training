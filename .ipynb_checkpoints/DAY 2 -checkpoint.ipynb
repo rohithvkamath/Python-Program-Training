{
 "cells": [
  {
   "cell_type": "markdown",
   "id": "83b4545c",
   "metadata": {},
   "source": [
    "# DAY 2 \n"
   ]
  },
  {
   "cell_type": "markdown",
   "id": "8775cc28",
   "metadata": {},
   "source": [
    "## Conditional Statements\n",
    "- These  are used to compare two values."
   ]
  },
  {
   "cell_type": "code",
   "execution_count": 1,
   "id": "7732731a",
   "metadata": {},
   "outputs": [
    {
     "name": "stdout",
     "output_type": "stream",
     "text": [
      "False\n",
      "True\n",
      "False\n",
      "False\n",
      "True\n",
      "True\n"
     ]
    }
   ],
   "source": [
    "a=5\n",
    "b=6\n",
    "print(a>b)\n",
    "print(a<b)\n",
    "print(a==b)\n",
    "print(a>=b)\n",
    "print(a<=b)\n",
    "print(a!=b)\n"
   ]
  },
  {
   "cell_type": "markdown",
   "id": "1bcd3455",
   "metadata": {},
   "source": [
    "## Arithmetic operators:\n",
    "- These are used with numeric values to perform common mathematical operations."
   ]
  },
  {
   "cell_type": "code",
   "execution_count": 1,
   "id": "eef32f5a",
   "metadata": {},
   "outputs": [
    {
     "name": "stdout",
     "output_type": "stream",
     "text": [
      "11\n",
      "-1\n",
      "30\n",
      "0.8333333333333334\n",
      "5\n",
      "15625\n",
      "0\n"
     ]
    }
   ],
   "source": [
    "a=5\n",
    "b=6\n",
    "print(a+b)\n",
    "print(a-b)\n",
    "print(a*b)\n",
    "print(a/b)\n",
    "print(a%b)\n",
    "print(a**b)\n",
    "print(a//b)"
   ]
  },
  {
   "cell_type": "markdown",
   "id": "8c7689b4",
   "metadata": {},
   "source": [
    "## Bitwise operators:\n",
    "- These are used to compare (binary) numbers."
   ]
  },
  {
   "cell_type": "code",
   "execution_count": 2,
   "id": "261d04b4",
   "metadata": {},
   "outputs": [
    {
     "name": "stdout",
     "output_type": "stream",
     "text": [
      "0\n",
      "3\n",
      "-2\n",
      "3\n",
      "2\n",
      "32\n",
      "False\n"
     ]
    }
   ],
   "source": [
    "a=1\n",
    "b=2\n",
    "c=8\n",
    "print(a&b)\n",
    "print(a|b)\n",
    "print(-b)\n",
    "print(a^b)\n",
    "print(c>>2)\n",
    "print(c<<2)\n",
    "if (a==b):\n",
    "    print(True)\n",
    "else:\n",
    "    print(False)"
   ]
  },
  {
   "cell_type": "markdown",
   "id": "f2b7f313",
   "metadata": {},
   "source": [
    "## LISTS\n",
    "- [ ]\n",
    "- unordered\n",
    "- changeable\n",
    "- allows duplicates\n"
   ]
  },
  {
   "cell_type": "code",
   "execution_count": 3,
   "id": "416ecff6",
   "metadata": {},
   "outputs": [
    {
     "name": "stdout",
     "output_type": "stream",
     "text": [
      "<class 'list'>\n",
      "['sjbit', 'sjbit']\n"
     ]
    }
   ],
   "source": [
    "sjbit=[]\n",
    "print(type(sjbit))\n",
    "sjbit.append(\"hi\")\n",
    "sjbit.append(\"sjbit\")\n",
    "sjbit.append(\"sjbit\")\n",
    "sjbit.remove(\"hi\")\n",
    "print(sjbit)"
   ]
  },
  {
   "cell_type": "markdown",
   "id": "e94f5897",
   "metadata": {},
   "source": [
    "### Program Automated fan\n"
   ]
  },
  {
   "cell_type": "code",
   "execution_count": 4,
   "id": "0a0fbd0a",
   "metadata": {},
   "outputs": [
    {
     "name": "stdout",
     "output_type": "stream",
     "text": [
      "true\n",
      "Status of Fan= ON\n"
     ]
    }
   ],
   "source": [
    "room=input()\n",
    "if room==\"true\":\n",
    "    fan=\"ON\"\n",
    "else: \n",
    "    fan=\"OFF\"\n",
    "print(\"Status of Fan=\",fan)"
   ]
  },
  {
   "cell_type": "markdown",
   "id": "5787e283",
   "metadata": {},
   "source": [
    "### Program to append and delete in the list\n"
   ]
  },
  {
   "cell_type": "code",
   "execution_count": 5,
   "id": "21e3afe9",
   "metadata": {},
   "outputs": [
    {
     "name": "stdout",
     "output_type": "stream",
     "text": [
      "Enter your choice:\n",
      " 1.Insert\n",
      " 2.Delete\n",
      " 0.Exit\n",
      "\n",
      "1\n",
      "Enter the element you want to insert in the list\n",
      "4\n",
      "['4']\n",
      "Enter your choice:\n",
      " 1.Insert\n",
      " 2.Delete\n",
      " 0.Exit\n",
      "\n",
      "2\n",
      "Enter the position of the element to be deleted4\n",
      "[]\n",
      "Enter your choice:\n",
      " 1.Insert\n",
      " 2.Delete\n",
      " 0.Exit\n",
      "\n",
      "0\n"
     ]
    }
   ],
   "source": [
    "str=[]\n",
    "ch=-1\n",
    "while ch!=0:\n",
    "    print(\"Enter your choice:\\n 1.Insert\\n 2.Delete\\n 0.Exit\\n\")\n",
    "    ch=int( input())\n",
    "    if ch==1:\n",
    "        n=input(\"Enter the element you want to insert in the list\\n\")\n",
    "        str.append(n)\n",
    "        print(str)\n",
    "    if ch==2:\n",
    "        m=input(\"Enter the position of the element to be deleted\")\n",
    "        str.remove(m)\n",
    "        print(str)"
   ]
  },
  {
   "cell_type": "markdown",
   "id": "b8da2c1a",
   "metadata": {},
   "source": [
    "### Program to append & delete the elements in a dummy list"
   ]
  },
  {
   "cell_type": "code",
   "execution_count": 6,
   "id": "5ab23056",
   "metadata": {},
   "outputs": [
    {
     "name": "stdout",
     "output_type": "stream",
     "text": [
      "Enter your choice\n",
      " 1. Insert\n",
      " 2. Delete \n",
      " 3. Exit\n",
      "3\n",
      "Choose the correct choice\n",
      "\n"
     ]
    }
   ],
   "source": [
    "choice=-1\n",
    "dummy_list=['apple','bun','car']\n",
    "while choice!='3':\n",
    "    choice=input(\"Enter your choice\\n 1. Insert\\n 2. Delete \\n 3. Exit\\n\")\n",
    "    if choice=='1':\n",
    "        x=input(\"Enter the element you want to insert\\t\")\n",
    "        dummy_list.append(x)\n",
    "        print(\"New list is:\",dummy_list)\n",
    "    if choice=='2':\n",
    "        print(dummy_list)\n",
    "        y=input(\"Enter the element you want to delete\\t\")\n",
    "        dummy_list.remove(y)\n",
    "        print(\"New list is:\",dummy_list)\n",
    "    else: \n",
    "        print(\"Choose the correct choice\\n\")"
   ]
  },
  {
   "cell_type": "code",
   "execution_count": 18,
   "id": "71f63979",
   "metadata": {},
   "outputs": [
    {
     "name": "stdout",
     "output_type": "stream",
     "text": [
      "['orange', 'gun', 'car']\n",
      "orange\n",
      "gun\n",
      "car\n"
     ]
    }
   ],
   "source": [
    "dummy_list=['apple','bun','car']\n",
    "dummy_list[0:2]=['orange','gun']\n",
    "print(dummy_list)\n",
    "for x in dummy_list :\n",
    "    print(x)"
   ]
  },
  {
   "cell_type": "code",
   "execution_count": 7,
   "id": "b02ef097",
   "metadata": {},
   "outputs": [
    {
     "name": "stdout",
     "output_type": "stream",
     "text": [
      "['cricket', 'football', 'basketball']\n",
      "cricket\n",
      "football\n",
      "basketball\n"
     ]
    }
   ],
   "source": [
    "dummy_list=[\"cricket\",\"football\",\"basketball\"]\n",
    "print(dummy_list)\n",
    "for i in range(len(dummy_list)):\n",
    "    print(dummy_list[i])"
   ]
  },
  {
   "cell_type": "markdown",
   "id": "1c6bdd53",
   "metadata": {},
   "source": [
    "## List keyboard"
   ]
  },
  {
   "cell_type": "code",
   "execution_count": 8,
   "id": "195a1810",
   "metadata": {},
   "outputs": [
    {
     "name": "stdout",
     "output_type": "stream",
     "text": [
      "<class 'list'>\n"
     ]
    }
   ],
   "source": [
    "a=list((\"a\",1,\"c\"))\n",
    "print(type(a))"
   ]
  },
  {
   "cell_type": "markdown",
   "id": "037d995e",
   "metadata": {},
   "source": [
    "### Accepting multiple inputs in list from the user"
   ]
  },
  {
   "cell_type": "code",
   "execution_count": 9,
   "id": "a23f1e6e",
   "metadata": {},
   "outputs": [
    {
     "name": "stdout",
     "output_type": "stream",
     "text": [
      "Enter the number of elements that has to be added in the list:\n",
      "4\n",
      "Enter the elements in the list:\n",
      "\n",
      "\n",
      "4\n",
      "\n",
      "4\n",
      "\n",
      "4\n",
      "\n",
      "4\n",
      "\n",
      "The list after inserting is:\n",
      " ['4', '4', '4', '4']\n"
     ]
    }
   ],
   "source": [
    "user_list=[]\n",
    "temp=int(input(\"Enter the number of elements that has to be added in the list:\\n\"))\n",
    "print(\"Enter the elements in the list:\\n\")\n",
    "for i in range (0,temp,1):\n",
    "    a=input(\"\\n\")\n",
    "    user_list.append(a)\n",
    "print(\"\\nThe list after inserting is:\\n\",user_list)"
   ]
  },
  {
   "cell_type": "markdown",
   "id": "80a676fe",
   "metadata": {},
   "source": [
    "## List comphension:\n",
    "- It offers a shorter syntax when you want to create a new list based on the values of an existing list.\n",
    "\n",
    "SYNTAX: `newlist = [expression for item in iterable if condition == True]`"
   ]
  },
  {
   "cell_type": "code",
   "execution_count": 6,
   "id": "c2c51334",
   "metadata": {},
   "outputs": [
    {
     "name": "stdout",
     "output_type": "stream",
     "text": [
      "['bike', 'bus']\n"
     ]
    }
   ],
   "source": [
    "vehicle=(\"car\",\"van\",\"bike\",\"train\",\"bus\")\n",
    "new_vehicle=[]\n",
    "for x in vehicle:\n",
    "    if \"b\" in x:\n",
    "        new_vehicle.append(x)\n",
    "print(new_vehicle)"
   ]
  },
  {
   "cell_type": "markdown",
   "id": "c1172dbc",
   "metadata": {},
   "source": [
    "The above for loop statement can be reduced into a single line expression."
   ]
  },
  {
   "cell_type": "code",
   "execution_count": 7,
   "id": "b8bd2b7d",
   "metadata": {},
   "outputs": [
    {
     "name": "stdout",
     "output_type": "stream",
     "text": [
      "['bike', 'bus']\n"
     ]
    }
   ],
   "source": [
    "new_vehicle=[x for x in vehicle if \"b\" in x]\n",
    "print(new_vehicle)"
   ]
  },
  {
   "cell_type": "code",
   "execution_count": null,
   "id": "b76afcfd",
   "metadata": {},
   "outputs": [],
   "source": []
  },
  {
   "cell_type": "markdown",
   "id": "538daabe",
   "metadata": {},
   "source": [
    "### Some more programs"
   ]
  },
  {
   "cell_type": "code",
   "execution_count": 10,
   "id": "720d8a6a",
   "metadata": {},
   "outputs": [
    {
     "name": "stdout",
     "output_type": "stream",
     "text": [
      "Enter the number of elements that has to be added in the list:\n",
      "4\n",
      "Enter the elements in the list:\n",
      "\n",
      "\n",
      "\n",
      "\n",
      "4\n",
      "\n",
      "4\n",
      "\n",
      "4\n",
      "\n",
      "The list after inserting is:\n",
      " ['car', 'van', 'world', 'a', 'b', '', '4', '4', '4']\n"
     ]
    }
   ],
   "source": [
    "user_list=[\"car\",\"van\",\"world\",\"a\",\"b\"]\n",
    "temp=int(input(\"Enter the number of elements that has to be added in the list:\\n\"))\n",
    "print(\"Enter the elements in the list:\\n\")\n",
    "for i in range (0,temp,1):\n",
    "    a=input(\"\\n\")\n",
    "    user_list.append(a)\n",
    "print(\"\\nThe list after inserting is:\\n\",user_list)"
   ]
  },
  {
   "cell_type": "markdown",
   "id": "db4df2fb",
   "metadata": {},
   "source": [
    "## Sorting in lists\n"
   ]
  },
  {
   "cell_type": "code",
   "execution_count": 11,
   "id": "bee7f025",
   "metadata": {},
   "outputs": [
    {
     "name": "stdout",
     "output_type": "stream",
     "text": [
      "['', '4', '4', '4', 'a', 'b', 'car', 'van', 'world']\n"
     ]
    }
   ],
   "source": [
    "user_list.sort()\n",
    "print(user_list)"
   ]
  },
  {
   "cell_type": "code",
   "execution_count": 12,
   "id": "02641271",
   "metadata": {},
   "outputs": [
    {
     "name": "stdout",
     "output_type": "stream",
     "text": [
      "['world', 'van', 'car', 'b', 'a', '4', '4', '4', '']\n"
     ]
    }
   ],
   "source": [
    "user_list.sort(reverse=True)\n",
    "print(user_list)"
   ]
  },
  {
   "cell_type": "code",
   "execution_count": 13,
   "id": "7a4e1ae9",
   "metadata": {},
   "outputs": [
    {
     "name": "stdout",
     "output_type": "stream",
     "text": [
      "['world', 'van', 'car', 'b', 'a', '4', '4', '4', '']\n"
     ]
    }
   ],
   "source": [
    "dec_list=user_list.copy()\n",
    "print(dec_list)"
   ]
  },
  {
   "cell_type": "code",
   "execution_count": 14,
   "id": "3564103a",
   "metadata": {},
   "outputs": [
    {
     "name": "stdout",
     "output_type": "stream",
     "text": [
      "['world', 'van', 'car', 'b', 'a', '4', '4', '4', '', 'chocolate', 'bus', 'car', 'bike']\n"
     ]
    }
   ],
   "source": [
    "dec_list=[\"chocolate\",\"bus\",\"car\",\"bike\"]\n",
    "a=user_list + dec_list\n",
    "print(a)"
   ]
  },
  {
   "cell_type": "markdown",
   "id": "2519d6a0",
   "metadata": {},
   "source": [
    "# Tuple\n",
    "- ()\n",
    "- unchangable\n",
    "- ordered\n",
    "- allows duplicates"
   ]
  },
  {
   "cell_type": "code",
   "execution_count": 15,
   "id": "a217a02f",
   "metadata": {},
   "outputs": [
    {
     "name": "stdout",
     "output_type": "stream",
     "text": [
      "('car', 'bus', 'bike')\n"
     ]
    }
   ],
   "source": [
    "user_tuple=(\"car\",\"bus\",\"bike\")\n",
    "print(user_tuple)"
   ]
  },
  {
   "cell_type": "code",
   "execution_count": 16,
   "id": "ee1df1c2",
   "metadata": {},
   "outputs": [
    {
     "name": "stdout",
     "output_type": "stream",
     "text": [
      "car\n"
     ]
    }
   ],
   "source": [
    "print(user_tuple[0])"
   ]
  },
  {
   "cell_type": "markdown",
   "id": "aca87be5",
   "metadata": {},
   "source": [
    "### Converting Tuple to list\n"
   ]
  },
  {
   "cell_type": "code",
   "execution_count": 17,
   "id": "d3578c93",
   "metadata": {},
   "outputs": [
    {
     "name": "stdout",
     "output_type": "stream",
     "text": [
      "['car', 'bus', 'bike']\n",
      "<class 'list'>\n"
     ]
    }
   ],
   "source": [
    "a=list(user_tuple)\n",
    "print(a)\n",
    "print(type(a))"
   ]
  },
  {
   "cell_type": "code",
   "execution_count": 19,
   "id": "4188911c",
   "metadata": {},
   "outputs": [
    {
     "name": "stdout",
     "output_type": "stream",
     "text": [
      "('car', 'van', 'a', 'b')\n"
     ]
    }
   ],
   "source": [
    "user_tuple=(\"car\",\"van\",\"a\")\n",
    "a=list((user_tuple))\n",
    "a.append(\"b\")\n",
    "b=tuple(a)\n",
    "print(b)"
   ]
  },
  {
   "cell_type": "code",
   "execution_count": 23,
   "id": "d69e8768",
   "metadata": {},
   "outputs": [
    {
     "name": "stdout",
     "output_type": "stream",
     "text": [
      "car\n",
      "van\n",
      "a\n"
     ]
    }
   ],
   "source": [
    "(a,b,c)=user_tuple\n",
    "print(a)\n",
    "print(b)\n",
    "print(c)"
   ]
  },
  {
   "cell_type": "markdown",
   "id": "9b1fad3a",
   "metadata": {},
   "source": [
    "## Set\n",
    "- { }\n",
    "- unchangable\n",
    "- No Duplicate"
   ]
  },
  {
   "cell_type": "code",
   "execution_count": 7,
   "id": "710f504b",
   "metadata": {},
   "outputs": [
    {
     "name": "stdout",
     "output_type": "stream",
     "text": [
      "{'hi', 'g'}\n"
     ]
    }
   ],
   "source": [
    "user_set={\"hi\",\"hi\",\"g\"}\n",
    "print(user_set)"
   ]
  },
  {
   "cell_type": "code",
   "execution_count": 10,
   "id": "f0f10ed4",
   "metadata": {},
   "outputs": [
    {
     "name": "stdout",
     "output_type": "stream",
     "text": [
      "{'hi', 'g'}\n"
     ]
    }
   ],
   "source": [
    "# Set is unchanged so we cannot change the value of the Set but we can add and delete the elements.\n",
    "user_set.add(\"hello\")\n",
    "user_set.remove(\"hello\")\n",
    "print(user_set)\n",
    "#user_set[0]=\"hello\"  --- Not a valid function."
   ]
  },
  {
   "cell_type": "markdown",
   "id": "a38293fa",
   "metadata": {},
   "source": [
    "## Dictionary"
   ]
  },
  {
   "cell_type": "code",
   "execution_count": 39,
   "id": "66f30b25",
   "metadata": {},
   "outputs": [
    {
     "name": "stdout",
     "output_type": "stream",
     "text": [
      "<class 'dict'>\n",
      "200\n"
     ]
    }
   ],
   "source": [
    "menu={\"coffee\":\"200\",\"packaging charge\":\"45\",\"tea\":\"150\"}\n",
    "print(type(menu))\n",
    "buffer=menu[\"coffee\"]\n",
    "print(buffer)"
   ]
  },
  {
   "cell_type": "markdown",
   "id": "e7a6a8b5",
   "metadata": {},
   "source": [
    "### Program to return the price of the item by the given input from user"
   ]
  },
  {
   "cell_type": "code",
   "execution_count": null,
   "id": "585cf999",
   "metadata": {},
   "outputs": [],
   "source": [
    "menu={\"coffee\":\"200\",\"packaging charge\":\"45\",\"tea\":\"150\"}\n",
    "x=input(\"Enter the item:\\n\")\n",
    "buffer=menu[x]\n",
    "print(\"The \",x,\"is\",buffer,\".Rs\\n\")"
   ]
  },
  {
   "cell_type": "code",
   "execution_count": 17,
   "id": "65b001f4",
   "metadata": {},
   "outputs": [
    {
     "name": "stdout",
     "output_type": "stream",
     "text": [
      "<class 'dict_keys'>\n",
      "dict_keys(['coffee', 'packaging charge', 'tea'])\n",
      "<class 'dict_values'>\n",
      "dict_values(['200', '45', '150'])\n"
     ]
    }
   ],
   "source": [
    "y = menu.keys()\n",
    "print(type(y))\n",
    "print(y)\n",
    "z = menu.values()\n",
    "print(type(z))\n",
    "print(z)"
   ]
  },
  {
   "cell_type": "code",
   "execution_count": 40,
   "id": "a999793e",
   "metadata": {},
   "outputs": [],
   "source": [
    "#menu[\"water\"]=20\n",
    "#print(menu)\n",
    "#print(menu.get(\"water\"))\n",
    "#menu.update({\"water\":\"30\"})\n",
    "#a=menu.fromvalue(d)\n",
    "#print(a)"
   ]
  },
  {
   "cell_type": "markdown",
   "id": "c35277be",
   "metadata": {},
   "source": [
    "### Random password generator program"
   ]
  },
  {
   "cell_type": "code",
   "execution_count": 32,
   "id": "e0e41cac",
   "metadata": {},
   "outputs": [
    {
     "name": "stdout",
     "output_type": "stream",
     "text": [
      "dsEEI5SBB\n"
     ]
    }
   ],
   "source": [
    "import random\n",
    "numbers=['0','1','2','3','4','5','6','7','8','9']\n",
    "small=[\"a\",\"b\",\"c\",\"d\",\"e\",\"f\",\"g\",\"h\",\"i\",\"j\",\"k\",\"l\",\"m\",\"n\",\"o\",\"p\",\"q\",\"r\",\"s\",\"t\",\"u\",\"v\",\"w\",\"x\",\"y\",\"z\"]\n",
    "big=[\"A\",\"B\",\"C\",\"D\",\"E\",\"F\",\"G\",\"H\",\"I\",\"J\",\"K\",\"L\",\"M\",\"N\",\"O\",\"P\",\"Q\",\"R\",\"S\",\"T\",\"U\",\"V\",\"W\",\"X\",\"Y\",\"Z\"]\n",
    "characters=list(numbers+small+big)\n",
    "random.shuffle(characters)\n",
    "password=[]\n",
    "for i in range (9):\n",
    "    password.append(random.choice(characters))\n",
    "random.shuffle(password)\n",
    "print(''.join(password))"
   ]
  },
  {
   "cell_type": "code",
   "execution_count": null,
   "id": "32284698",
   "metadata": {},
   "outputs": [],
   "source": [
    "import random \n",
    "max_len=int(input(\"Enter the length of the password\"))\n",
    "#max_len=15\n",
    "digits=['0','1','2','3','4','5','6','7','8','9']\n",
    "upper_case=[\"a\",\"b\",\"c\",\"d\",\"e\",\"f\",\"g\",\"h\",\"i\",\"j\",\"k\",\"l\",\"m\",\"n\",\"o\",\"p\",\"q\",\"r\",\"s\",\"t\",\"u\",\"v\",\"w\",\"x\",\"y\",\"z\"]\n",
    "lower_case=[\"A\",\"B\",\"C\",\"D\",\"E\",\"F\",\"G\",\"H\",\"I\",\"J\",\"K\",\"L\",\"M\",\"N\",\"O\",\"P\",\"Q\",\"R\",\"S\",\"T\",\"U\",\"V\",\"W\",\"X\",\"Y\",\"Z\"]\n",
    "symbol=['!','@','#'.'$','%','&','*','^']"
   ]
  },
  {
   "cell_type": "markdown",
   "id": "84381d0d",
   "metadata": {},
   "source": [
    "### H.W hashing and encryption"
   ]
  },
  {
   "cell_type": "code",
   "execution_count": 15,
   "id": "0be31161",
   "metadata": {},
   "outputs": [
    {
     "ename": "NameError",
     "evalue": "name 'characteristics' is not defined",
     "output_type": "error",
     "traceback": [
      "\u001b[1;31m---------------------------------------------------------------------------\u001b[0m",
      "\u001b[1;31mNameError\u001b[0m                                 Traceback (most recent call last)",
      "\u001b[1;32m<ipython-input-15-2df84fb89420>\u001b[0m in \u001b[0;36m<module>\u001b[1;34m\u001b[0m\n\u001b[0;32m      2\u001b[0m     \u001b[0mcharacteristics\u001b[0m\u001b[1;33m=\u001b[0m\u001b[1;33m{\u001b[0m\u001b[1;34m\"ink\"\u001b[0m\u001b[1;33m:\u001b[0m\u001b[1;34m\"blue\"\u001b[0m\u001b[1;33m}\u001b[0m\u001b[1;33m\u001b[0m\u001b[1;33m\u001b[0m\u001b[0m\n\u001b[0;32m      3\u001b[0m     \u001b[0mlength\u001b[0m\u001b[1;33m=\u001b[0m \u001b[1;36m3\u001b[0m\u001b[1;33m\u001b[0m\u001b[1;33m\u001b[0m\u001b[0m\n\u001b[1;32m----> 4\u001b[1;33m \u001b[0mprint\u001b[0m\u001b[1;33m(\u001b[0m\u001b[0mpen\u001b[0m\u001b[1;33m(\u001b[0m\u001b[0mcharacteristics\u001b[0m\u001b[1;33m(\u001b[0m\u001b[1;34m\"ink\"\u001b[0m\u001b[1;33m)\u001b[0m\u001b[1;33m)\u001b[0m\u001b[1;33m)\u001b[0m\u001b[1;33m\u001b[0m\u001b[1;33m\u001b[0m\u001b[0m\n\u001b[0m",
      "\u001b[1;31mNameError\u001b[0m: name 'characteristics' is not defined"
     ]
    }
   ],
   "source": [
    "def pen():\n",
    "    characteristics={\"ink\":\"blue\"}\n",
    "    length= 3\n",
    "print(pen(characteristics(\"ink\")))"
   ]
  }
 ],
 "metadata": {
  "kernelspec": {
   "display_name": "Python 3",
   "language": "python",
   "name": "python3"
  },
  "language_info": {
   "codemirror_mode": {
    "name": "ipython",
    "version": 3
   },
   "file_extension": ".py",
   "mimetype": "text/x-python",
   "name": "python",
   "nbconvert_exporter": "python",
   "pygments_lexer": "ipython3",
   "version": "3.8.8"
  }
 },
 "nbformat": 4,
 "nbformat_minor": 5
}
