{
 "cells": [
  {
   "cell_type": "markdown",
   "id": "8dcdbeb4",
   "metadata": {},
   "source": [
    "## while"
   ]
  },
  {
   "cell_type": "code",
   "execution_count": 1,
   "id": "2a2480a0",
   "metadata": {},
   "outputs": [
    {
     "name": "stdout",
     "output_type": "stream",
     "text": [
      "0 less than 10\n",
      "1 less than 10\n",
      "2 less than 10\n",
      "3 less than 10\n",
      "4 less than 10\n",
      "5 less than 10\n",
      "6 less than 10\n",
      "7 less than 10\n",
      "8 less than 10\n",
      "9 less than 10\n",
      "10 not less than 10\n"
     ]
    }
   ],
   "source": [
    "i=0\n",
    "while(i<10):\n",
    "    print(i,\"less than 10\")\n",
    "    i+=1\n",
    "else:\n",
    "    print(i,\"not less than 10\")"
   ]
  },
  {
   "cell_type": "markdown",
   "id": "9a6746f0",
   "metadata": {},
   "source": [
    "## Break"
   ]
  },
  {
   "cell_type": "code",
   "execution_count": 2,
   "id": "b793d8cb",
   "metadata": {},
   "outputs": [
    {
     "name": "stdout",
     "output_type": "stream",
     "text": [
      "apple\n",
      "watermelon\n",
      "orange\n"
     ]
    }
   ],
   "source": [
    "user_list=(\"apple\",\"watermelon\",\"orange\",\"banana\")\n",
    "for x in user_list:\n",
    "    print(x)\n",
    "    if x== \"orange\":\n",
    "        break"
   ]
  },
  {
   "cell_type": "markdown",
   "id": "84280a24",
   "metadata": {},
   "source": [
    "## Function:"
   ]
  },
  {
   "cell_type": "code",
   "execution_count": 3,
   "id": "e5c32f3e",
   "metadata": {},
   "outputs": [
    {
     "name": "stdout",
     "output_type": "stream",
     "text": [
      "1\n",
      "2\n"
     ]
    }
   ],
   "source": [
    "def first():\n",
    "    print(1)\n",
    "def second():\n",
    "    print(\"2\")\n",
    "first()\n",
    "second()"
   ]
  },
  {
   "cell_type": "code",
   "execution_count": null,
   "id": "2fff60e2",
   "metadata": {},
   "outputs": [],
   "source": []
  },
  {
   "cell_type": "code",
   "execution_count": null,
   "id": "bb6a5041",
   "metadata": {},
   "outputs": [],
   "source": []
  },
  {
   "cell_type": "code",
   "execution_count": null,
   "id": "139071e2",
   "metadata": {},
   "outputs": [],
   "source": []
  },
  {
   "cell_type": "code",
   "execution_count": null,
   "id": "9d7a8ec4",
   "metadata": {},
   "outputs": [],
   "source": []
  },
  {
   "cell_type": "code",
   "execution_count": null,
   "id": "f5d28356",
   "metadata": {},
   "outputs": [],
   "source": []
  },
  {
   "cell_type": "code",
   "execution_count": null,
   "id": "468f511d",
   "metadata": {},
   "outputs": [],
   "source": []
  },
  {
   "cell_type": "code",
   "execution_count": null,
   "id": "3f625725",
   "metadata": {},
   "outputs": [],
   "source": []
  },
  {
   "cell_type": "code",
   "execution_count": null,
   "id": "5d243f14",
   "metadata": {},
   "outputs": [],
   "source": []
  }
 ],
 "metadata": {
  "kernelspec": {
   "display_name": "Python 3",
   "language": "python",
   "name": "python3"
  },
  "language_info": {
   "codemirror_mode": {
    "name": "ipython",
    "version": 3
   },
   "file_extension": ".py",
   "mimetype": "text/x-python",
   "name": "python",
   "nbconvert_exporter": "python",
   "pygments_lexer": "ipython3",
   "version": "3.8.8"
  }
 },
 "nbformat": 4,
 "nbformat_minor": 5
}
