{
 "cells": [
  {
   "cell_type": "markdown",
   "id": "bfa95512",
   "metadata": {},
   "source": [
    "# try and except"
   ]
  },
  {
   "cell_type": "code",
   "execution_count": 11,
   "id": "0be8f3b9",
   "metadata": {},
   "outputs": [
    {
     "name": "stdout",
     "output_type": "stream",
     "text": [
      "Name Error!!!\n",
      "Success\n"
     ]
    }
   ],
   "source": [
    "try: \n",
    "    print(x)\n",
    "except NameError:\n",
    "    print(\"Name Error!!!\")\n",
    "finally:\n",
    "    print(\"Success\")"
   ]
  },
  {
   "cell_type": "markdown",
   "id": "2f1f609f",
   "metadata": {},
   "source": [
    "## Class"
   ]
  },
  {
   "cell_type": "code",
   "execution_count": 24,
   "id": "c27d39c1",
   "metadata": {},
   "outputs": [
    {
     "name": "stdout",
     "output_type": "stream",
     "text": [
      "<class 'type'>\n"
     ]
    }
   ],
   "source": [
    "class cse:\n",
    "    x=5\n",
    "    def ym():\n",
    "        print(x)\n",
    "print(type(cse))"
   ]
  },
  {
   "cell_type": "code",
   "execution_count": 36,
   "id": "9de1aafe",
   "metadata": {},
   "outputs": [
    {
     "name": "stdout",
     "output_type": "stream",
     "text": [
      "5\n",
      "<bound method cse.ym of <__main__.cse object at 0x0000022CE99FDFD0>>\n"
     ]
    }
   ],
   "source": [
    "y1=cse()\n",
    "print(y1.x)\n",
    "print(y1.ym)"
   ]
  },
  {
   "cell_type": "code",
   "execution_count": 69,
   "id": "8714aecf",
   "metadata": {},
   "outputs": [],
   "source": [
    "class car:\n",
    "    def __init__(self,fuel,price,year):\n",
    "        self.fuel=fuel\n",
    "        self.price=price\n",
    "        self.year=year\n",
    "    def dat(self):\n",
    "        print(\"The fuel type is:\",self.fuel,\"\\n\")\n",
    "        print(\"The price of car is:\",self.price,\"\\n\")\n",
    "        print(\"The model is of year:\",self.price,\"\\n\")\n",
    "            \n",
    "c1=car(\"petrol\",120000,2020)\n",
    "c2=car(\"diesel\",150000,2019)"
   ]
  },
  {
   "cell_type": "code",
   "execution_count": 70,
   "id": "41142791",
   "metadata": {},
   "outputs": [
    {
     "name": "stdout",
     "output_type": "stream",
     "text": [
      "petrol\n",
      "diesel\n",
      "The fuel type is: petrol \n",
      "\n",
      "The price of car is: 120000 \n",
      "\n",
      "The model is of year: 120000 \n",
      "\n"
     ]
    }
   ],
   "source": [
    "print(c1.fuel)\n",
    "print(c2.fuel)\n",
    "c1.dat()"
   ]
  },
  {
   "cell_type": "code",
   "execution_count": 54,
   "id": "166c5be4",
   "metadata": {},
   "outputs": [
    {
     "ename": "TypeError",
     "evalue": "'str' object is not callable",
     "output_type": "error",
     "traceback": [
      "\u001b[1;31m---------------------------------------------------------------------------\u001b[0m",
      "\u001b[1;31mTypeError\u001b[0m                                 Traceback (most recent call last)",
      "\u001b[1;32m<ipython-input-54-8317630fb590>\u001b[0m in \u001b[0;36m<module>\u001b[1;34m\u001b[0m\n\u001b[1;32m----> 1\u001b[1;33m \u001b[0mc1\u001b[0m\u001b[1;33m.\u001b[0m\u001b[0mfuel\u001b[0m\u001b[1;33m(\u001b[0m\u001b[1;33m)\u001b[0m\u001b[1;33m\u001b[0m\u001b[1;33m\u001b[0m\u001b[0m\n\u001b[0m",
      "\u001b[1;31mTypeError\u001b[0m: 'str' object is not callable"
     ]
    }
   ],
   "source": [
    "c1.fuel()"
   ]
  },
  {
   "cell_type": "code",
   "execution_count": 48,
   "id": "97496fa7",
   "metadata": {},
   "outputs": [
    {
     "name": "stdout",
     "output_type": "stream",
     "text": [
      "Auto Mode ~  Tata Hexon\n"
     ]
    }
   ],
   "source": [
    "def auto(carname):\n",
    "    print(\"Auto Mode ~ \",carname)\n",
    "auto(\"Tata Hexon\")"
   ]
  },
  {
   "cell_type": "code",
   "execution_count": 99,
   "id": "e02aa088",
   "metadata": {},
   "outputs": [],
   "source": [
    "class username:\n",
    "    def store(self,user_name,password):\n",
    "        self.user_name=user_name\n",
    "        self.password=password\n",
    "    def verification(user,pas):\n",
    "        if user==p1.store.user_name and pas==password:\n",
    "            print(\"Welcome\\n\",user)\n"
   ]
  },
  {
   "cell_type": "code",
   "execution_count": 93,
   "id": "905ae9c4",
   "metadata": {},
   "outputs": [],
   "source": [
    "def verification(user,pas):\n",
    "    if user==p1.store.user_name and pas==password:\n",
    "            print(\"Welcome\\n\",user)"
   ]
  },
  {
   "cell_type": "code",
   "execution_count": 100,
   "id": "b0f9a0b3",
   "metadata": {},
   "outputs": [
    {
     "ename": "TypeError",
     "evalue": "store() missing 1 required positional argument: 'password'",
     "output_type": "error",
     "traceback": [
      "\u001b[1;31m---------------------------------------------------------------------------\u001b[0m",
      "\u001b[1;31mTypeError\u001b[0m                                 Traceback (most recent call last)",
      "\u001b[1;32m<ipython-input-100-f450c0d59455>\u001b[0m in \u001b[0;36m<module>\u001b[1;34m\u001b[0m\n\u001b[1;32m----> 1\u001b[1;33m \u001b[0mp1\u001b[0m\u001b[1;33m=\u001b[0m\u001b[0musername\u001b[0m\u001b[1;33m.\u001b[0m\u001b[0mstore\u001b[0m\u001b[1;33m(\u001b[0m\u001b[1;34m\"rohith\"\u001b[0m\u001b[1;33m,\u001b[0m\u001b[1;34m\"rohith\"\u001b[0m\u001b[1;33m)\u001b[0m\u001b[1;33m\u001b[0m\u001b[1;33m\u001b[0m\u001b[0m\n\u001b[0m",
      "\u001b[1;31mTypeError\u001b[0m: store() missing 1 required positional argument: 'password'"
     ]
    }
   ],
   "source": [
    "p1=username.store(\"rohith\",\"rohith\")"
   ]
  },
  {
   "cell_type": "code",
   "execution_count": 95,
   "id": "995c8154",
   "metadata": {},
   "outputs": [
    {
     "ename": "AttributeError",
     "evalue": "'NoneType' object has no attribute 'store'",
     "output_type": "error",
     "traceback": [
      "\u001b[1;31m---------------------------------------------------------------------------\u001b[0m",
      "\u001b[1;31mAttributeError\u001b[0m                            Traceback (most recent call last)",
      "\u001b[1;32m<ipython-input-95-a48f655c8ef7>\u001b[0m in \u001b[0;36m<module>\u001b[1;34m\u001b[0m\n\u001b[1;32m----> 1\u001b[1;33m \u001b[0mp1\u001b[0m\u001b[1;33m.\u001b[0m\u001b[0mstore\u001b[0m\u001b[1;33m(\u001b[0m\u001b[1;33m)\u001b[0m\u001b[1;33m\u001b[0m\u001b[1;33m\u001b[0m\u001b[0m\n\u001b[0m",
      "\u001b[1;31mAttributeError\u001b[0m: 'NoneType' object has no attribute 'store'"
     ]
    }
   ],
   "source": [
    "\n",
    "p1.store()"
   ]
  },
  {
   "cell_type": "code",
   "execution_count": 102,
   "id": "2bdb0333",
   "metadata": {},
   "outputs": [
    {
     "name": "stdout",
     "output_type": "stream",
     "text": [
      "Welcome\n",
      " rohith\n"
     ]
    }
   ],
   "source": [
    "class username:\n",
    "    def __init__(self,user_name,password):\n",
    "        self.user_name=user_name\n",
    "        self.password=password\n",
    "    def verification(self,user,pas):\n",
    "        if user==p1.user_name and pas==p1.password:\n",
    "                print(\"Welcome\\n\",user)\n",
    "p1=username(\"rohith\",\"rohith\")\n",
    "p1.verification(\"rohith\",\"rohith\")"
   ]
  },
  {
   "cell_type": "code",
   "execution_count": 1,
   "id": "d6912373",
   "metadata": {},
   "outputs": [
    {
     "name": "stdout",
     "output_type": "stream",
     "text": [
      "Enter the user name:\n"
     ]
    }
   ],
   "source": [
    "def user_input():\n",
    "    print(\"Enter the user name:\")\n",
    "def validate():\n",
    "    pass\n",
    "user_input()\n",
    "validate()"
   ]
  },
  {
   "cell_type": "markdown",
   "id": "7e5d6cf6",
   "metadata": {},
   "source": [
    "## open pv xl"
   ]
  },
  {
   "cell_type": "code",
   "execution_count": 1,
   "id": "f5230674",
   "metadata": {},
   "outputs": [],
   "source": [
    "import openpyxl\n"
   ]
  },
  {
   "cell_type": "code",
   "execution_count": null,
   "id": "798d3be0",
   "metadata": {},
   "outputs": [],
   "source": []
  },
  {
   "cell_type": "code",
   "execution_count": null,
   "id": "434f3c12",
   "metadata": {},
   "outputs": [],
   "source": []
  },
  {
   "cell_type": "code",
   "execution_count": null,
   "id": "ae939ba6",
   "metadata": {},
   "outputs": [],
   "source": []
  },
  {
   "cell_type": "code",
   "execution_count": null,
   "id": "575169ae",
   "metadata": {},
   "outputs": [],
   "source": []
  }
 ],
 "metadata": {
  "kernelspec": {
   "display_name": "Python 3",
   "language": "python",
   "name": "python3"
  },
  "language_info": {
   "codemirror_mode": {
    "name": "ipython",
    "version": 3
   },
   "file_extension": ".py",
   "mimetype": "text/x-python",
   "name": "python",
   "nbconvert_exporter": "python",
   "pygments_lexer": "ipython3",
   "version": "3.8.8"
  }
 },
 "nbformat": 4,
 "nbformat_minor": 5
}
