{
 "cells": [
  {
   "cell_type": "markdown",
   "id": "401d735b",
   "metadata": {},
   "source": [
    "## Calling a function with arguments:"
   ]
  },
  {
   "cell_type": "code",
   "execution_count": 1,
   "id": "0d17769e",
   "metadata": {},
   "outputs": [
    {
     "name": "stdout",
     "output_type": "stream",
     "text": [
      "1\n"
     ]
    }
   ],
   "source": [
    "def sjbit(b):\n",
    "    print(b)\n",
    "sjbit(b=int(1))\n"
   ]
  },
  {
   "cell_type": "markdown",
   "id": "8548d35b",
   "metadata": {},
   "source": [
    "## ** -> Keyword argument"
   ]
  },
  {
   "cell_type": "code",
   "execution_count": 6,
   "id": "aee26f0d",
   "metadata": {},
   "outputs": [
    {
     "name": "stdout",
     "output_type": "stream",
     "text": [
      "x\n"
     ]
    }
   ],
   "source": [
    "def sjbit (**name):\n",
    "    print(name[\"f_name\"])\n",
    "sjbit(f_name=\"x\",s_name=\"y\")"
   ]
  },
  {
   "cell_type": "code",
   "execution_count": 7,
   "id": "ee4c2d1f",
   "metadata": {},
   "outputs": [
    {
     "name": "stdout",
     "output_type": "stream",
     "text": [
      "2 1\n"
     ]
    }
   ],
   "source": [
    "def a(b,a):\n",
    "    print(a,b)\n",
    "a(1,2)"
   ]
  },
  {
   "cell_type": "code",
   "execution_count": 2,
   "id": "f345a931",
   "metadata": {},
   "outputs": [
    {
     "name": "stdout",
     "output_type": "stream",
     "text": [
      "1\n",
      "2\n",
      "3\n",
      "4\n",
      "5\n"
     ]
    }
   ],
   "source": [
    "def sjbit (c):\n",
    "    for x in c:\n",
    "        print(x)\n",
    "b=[1,2,3,4,5]\n",
    "sjbit(b)\n",
    "    "
   ]
  },
  {
   "cell_type": "markdown",
   "id": "a3b482e0",
   "metadata": {},
   "source": [
    "### Program to add n numbers:"
   ]
  },
  {
   "cell_type": "code",
   "execution_count": 7,
   "id": "2958dd49",
   "metadata": {},
   "outputs": [
    {
     "name": "stdout",
     "output_type": "stream",
     "text": [
      "Enter a number:\n",
      "456\n",
      "104196\n"
     ]
    }
   ],
   "source": [
    "x= int(input(\"Enter a number:\\n\"))\n",
    "sum=0\n",
    "for i in range (0,x+1,1):\n",
    "    sum=sum+i\n",
    "print(sum)"
   ]
  },
  {
   "cell_type": "markdown",
   "id": "48fb8978",
   "metadata": {},
   "source": [
    "### Program to add the digits of a given number:"
   ]
  },
  {
   "cell_type": "code",
   "execution_count": 4,
   "id": "bd1041bb",
   "metadata": {},
   "outputs": [
    {
     "name": "stdout",
     "output_type": "stream",
     "text": [
      "Enter a number:\n",
      "657\n",
      "18\n"
     ]
    }
   ],
   "source": [
    "x= input(\"Enter a number:\\n\")\n",
    "sum=0\n",
    "y=-1\n",
    "while(y!=0):\n",
    "    y=int(x)%10\n",
    "    x=int(x)/10\n",
    "    sum=sum+y\n",
    "print(sum)"
   ]
  },
  {
   "cell_type": "markdown",
   "id": "9ae46c6b",
   "metadata": {},
   "source": [
    "*H.W* :-> operator overloading; multiple inheritence; python name space; pyhton exception;"
   ]
  },
  {
   "cell_type": "code",
   "execution_count": 6,
   "id": "80f533a3",
   "metadata": {},
   "outputs": [
    {
     "name": "stdout",
     "output_type": "stream",
     "text": [
      "25\n"
     ]
    }
   ],
   "source": [
    "def add(a):\n",
    "    return a*5\n",
    "print(add(5))"
   ]
  },
  {
   "cell_type": "code",
   "execution_count": null,
   "id": "30a95180",
   "metadata": {},
   "outputs": [],
   "source": []
  }
 ],
 "metadata": {
  "kernelspec": {
   "display_name": "Python 3",
   "language": "python",
   "name": "python3"
  },
  "language_info": {
   "codemirror_mode": {
    "name": "ipython",
    "version": 3
   },
   "file_extension": ".py",
   "mimetype": "text/x-python",
   "name": "python",
   "nbconvert_exporter": "python",
   "pygments_lexer": "ipython3",
   "version": "3.8.8"
  }
 },
 "nbformat": 4,
 "nbformat_minor": 5
}
